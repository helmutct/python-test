{
 "cells": [
  {
   "cell_type": "markdown",
   "metadata": {},
   "source": [
    "# Part 1 – Mathematics and Logic"
   ]
  },
  {
   "cell_type": "markdown",
   "metadata": {},
   "source": [
    "## Question 1.1\n",
    "A group of friends at a party drink soda or beer. Thirteen friends drink soda, ten drink beer, and five drink soda and beer. How many friends are present at the party?\n",
    "\n",
    "Answer: \n",
    "\n",
    "* Soda: 13\n",
    "* Beer: 10\n",
    "* Soda and Beer: 5\n",
    "* Total: 23 - 5 = \n",
    "\n",
    "* 18 friends"
   ]
  },
  {
   "cell_type": "markdown",
   "metadata": {},
   "source": [
    "## Question 1.2\n",
    "Sarah assumes her watch is 5 minutes late, but it is actually 10 minutes early. Sarah arrives for an appointment thinking she is 15 minutes late compared to the scheduled time. When did she actually arrive? On time, late or early? In case she arrived early, by how many minutes?\n",
    "\n",
    "Answer:\n",
    "* 15 (she thinks) + 10 (compared to the scheduled time) = \n",
    " \n",
    "* 25 minutes early"
   ]
  },
  {
   "cell_type": "markdown",
   "metadata": {},
   "source": [
    "## Question 1.3\n",
    "A pizzeria carries out a promotion with the ad \"Buy one and get another one for half the price\". A different promotion that offers the same discount percentage is:\n",
    "\n",
    "(a) \"Take two, pay one\"\n",
    "(b) \"Take three and pay one\"\n",
    "(c) \"Take three, pay two\"\n",
    "(d) \"Take four and pay for three\"\n",
    "(e) \"Take five, pay four\"\n",
    "\n",
    "Answer:\n",
    "* (a) --> same discount"
   ]
  },
  {
   "cell_type": "markdown",
   "metadata": {},
   "source": [
    "## Question 1.4\n",
    "Lorenna's phone number has 8 digits, but Sarah only remembers the first four in the correct order. Although she remembers the last four digits and knows that none of them repeats, she has forgotten their order. What's the number of attempts Sarah can make before she can get Lorenna's phone number right?\n",
    "\n",
    "Answer: \n",
    "* 4! (4 factorial as the 4 last digits) = \n",
    "\n",
    "* 24 (number of arrangements possible)"
   ]
  },
  {
   "cell_type": "markdown",
   "metadata": {},
   "source": [
    "# Part 2 - Programming"
   ]
  },
  {
   "cell_type": "markdown",
   "metadata": {},
   "source": [
    "## Question 2.1\n",
    "A palindrome is a word that is symmetric: if we write it backward, the result word is the same. For example, “HANNAH” is a palindrome, but “GAGA” is not. Write a short program (without using any in-built function) that determines whether a word is a palindrome.\n",
    "\n",
    "Answer:"
   ]
  },
  {
   "cell_type": "code",
   "execution_count": 61,
   "metadata": {},
   "outputs": [
    {
     "name": "stdout",
     "output_type": "stream",
     "text": [
      "True\n",
      "False\n"
     ]
    }
   ],
   "source": [
    "def is_palindrome(word):\n",
    "    length = len(word)\n",
    "    \n",
    "    # Compare the characters from the start and end of the word, until the middle letter is enough\n",
    "    for i in range(length // 2):\n",
    "        if word[i] != word[length - i - 1]:\n",
    "            return False\n",
    "    return True\n",
    "\n",
    "# Check if the words are palindromes\n",
    "# should return True\n",
    "print(is_palindrome(\"HANNAH\"))\n",
    "# should return False\n",
    "print(is_palindrome(\"GAGA\"))"
   ]
  },
  {
   "cell_type": "markdown",
   "metadata": {},
   "source": [
    "## Question 2.2\n",
    "A huge phone book containing pairs of the form {phone number, person's name} was stored as a vector sorted by name in alphabetical order. Write a program (without using any in-built function) that finds the phone number of a given person in this list, bearing in mind that the list is very large and that users need the search results to be as fast as possible.\n",
    "\n",
    "Answer:"
   ]
  },
  {
   "cell_type": "code",
   "execution_count": 65,
   "metadata": {},
   "outputs": [
    {
     "name": "stdout",
     "output_type": "stream",
     "text": [
      "222-2222\n",
      "None\n"
     ]
    }
   ],
   "source": [
    "\"\"\"\n",
    "Binary search is the preferred choice due to its \"divide and conquer\" approach, which efficiently reduces the number of elements to examine, resulting in faster search times for large datasets with time complexity of (O log N) instead of O(N) which is faster for larger dataset because the size do not increase in a linear growth as O(N).\n",
    "\"\"\"\n",
    "def binary_search(phone_book, target_name):\n",
    "    left, right = 0, len(phone_book) - 1\n",
    "    \n",
    "    while left <= right:\n",
    "        mid = left + (right - left) // 2\n",
    "        \n",
    "        if phone_book[mid][1] == target_name:\n",
    "            return phone_book[mid][0]\n",
    "        elif phone_book[mid][1] < target_name:\n",
    "            left = mid + 1\n",
    "        else:\n",
    "            right = mid - 1\n",
    "    \n",
    "    return None\n",
    "\n",
    "phone_book = [\n",
    "    ('111-1111', 'Dwight'),\n",
    "    ('222-2222', 'Jim'),\n",
    "    ('333-3333', 'Pam'),\n",
    "    ('444-4444', 'Stanley'),\n",
    "]\n",
    "sorted_phone_book = sorted(phone_book, key=lambda x: x[1])\n",
    "\n",
    "# should return Jim`s phone`\n",
    "print(binary_search(sorted_phone_book, 'Jim'))\n",
    "# should not find anything\n",
    "print(binary_search(sorted_phone_book, 'Michael'))"
   ]
  },
  {
   "cell_type": "markdown",
   "metadata": {},
   "source": [
    "## Question 2.3\n",
    "Consider the following database schema:\n",
    "| TABLE | COLUMNS | \n",
    "|---|---|\n",
    "| SUPPLIER | SUPPLIER_CODE, SUPPLIER_NAME, CITY |\n",
    "| PART | PART_CODE, NAME_PART, PRICE |\n",
    "| CAR | CAR_CODE, NAME_CAR, TYPE |\n",
    "| SUPPLY | SUPPLIER_CODE, PART_CODE, CAR_CODE |\n",
    "\n",
    "Write an SQL command that is able to query the suppliers located in the city named\n",
    "“VITORIA” that provide the part named “MOTOR” for the car named “KOMBI”, with\n",
    "their respective prices.\n",
    "Example:\n",
    "SUPPLIER PRICE\n",
    "---------------- ---------\n",
    "Supplier A 1,000\n",
    "Supplier B 1,500\n",
    "\n",
    "Answer:"
   ]
  },
  {
   "cell_type": "markdown",
   "metadata": {},
   "source": [
    "```\n",
    "SELECT S.SUPPLIER_NAME AS SUPPLIER, P.PRICE\n",
    "FROM SUPPLY SP\n",
    "JOIN SUPPLIER S ON SP.SUPPLIER_CODE = S.SUPPLIER_CODE\n",
    "JOIN PART P ON SP.PART_CODE = P.PART_CODE\n",
    "JOIN CAR C ON SP.CAR_CODE = C.CAR_CODE\n",
    "WHERE S.CITY = 'VITORIA'\n",
    "  AND P.NAME_PART = 'MOTOR'\n",
    "  AND C.NAME_CAR = 'KOMBI';\n",
    "```"
   ]
  },
  {
   "cell_type": "markdown",
   "metadata": {},
   "source": [
    "## Question 2.4\n",
    "Your friend is developing a small image processing program and has asked for your help\n",
    "in implementing MS-Paint's “paint bucket”-like functionality. Their program represents\n",
    "images using arrays of characters, with each array value representing a pixel and letters and\n",
    "symbols representing different colors. For example, the following 4x6 matrix represents the\n",
    "letter P in color \"#\", with background color \".\" (dot)\n",
    ".###..\n",
    ".#..#.\n",
    ".###..\n",
    ".#....\n",
    "\n",
    "Your subroutine should take a pixel and a new color and paint the region of that pixel with\n",
    "the new color, like MS-Paint's “paint bucket” tool.\n",
    "Examples:\n",
    "\n",
    "| Column 1 | Column 2 |\n",
    "|---|---|\n",
    "| Pixel (0,1) | O |\n",
    "| Pixel (1,3) | o | Pixel (1,3) and new color '#' |\n",
    "\n",
    "| Before | After | Before After Before | After |\n",
    "|---|---|---|---|\n",
    "| .###.. | .OOO.. | .###.  .###..  .###.. | .###.. |\n",
    "| .#..#. | .O..#. | .#..#.  .#oo#.  .#..#. | .####. |\n",
    "| .###.. | .OOO.. | .###.  .###..  .###.. | .###.. |\n",
    "| .#.... | .O.... | .#....  .#....  .#.... | .#.... |\n",
    "\n",
    "- In the last table, I didn't understand the meaning of the columns labeled 'Before After Before' and 'After,' so I ignored them for this implementation."
   ]
  },
  {
   "cell_type": "code",
   "execution_count": 64,
   "metadata": {},
   "outputs": [
    {
     "name": "stdout",
     "output_type": "stream",
     "text": [
      "Before:\n",
      "\u001b[38;5;3m.\u001b[0m\u001b[38;5;1m#\u001b[0m\u001b[38;5;1m#\u001b[0m\u001b[38;5;1m#\u001b[0m\u001b[38;5;3m.\u001b[0m\u001b[38;5;3m.\u001b[0m\n",
      "\u001b[38;5;3m.\u001b[0m\u001b[38;5;1m#\u001b[0m\u001b[38;5;3m.\u001b[0m\u001b[38;5;3m.\u001b[0m\u001b[38;5;1m#\u001b[0m\u001b[38;5;3m.\u001b[0m\n",
      "\u001b[38;5;3m.\u001b[0m\u001b[38;5;1m#\u001b[0m\u001b[38;5;1m#\u001b[0m\u001b[38;5;1m#\u001b[0m\u001b[38;5;3m.\u001b[0m\u001b[38;5;3m.\u001b[0m\n",
      "\u001b[38;5;3m.\u001b[0m\u001b[38;5;1m#\u001b[0m\u001b[38;5;3m.\u001b[0m\u001b[38;5;3m.\u001b[0m\u001b[38;5;3m.\u001b[0m\u001b[38;5;3m.\u001b[0m\n",
      "\n",
      "After:\n",
      "\u001b[38;5;3m.\u001b[0m\u001b[38;5;2mO\u001b[0m\u001b[38;5;2mO\u001b[0m\u001b[38;5;2mO\u001b[0m\u001b[38;5;3m.\u001b[0m\u001b[38;5;3m.\u001b[0m\n",
      "\u001b[38;5;3m.\u001b[0m\u001b[38;5;2mO\u001b[0m\u001b[38;5;3m.\u001b[0m\u001b[38;5;3m.\u001b[0m\u001b[38;5;1m#\u001b[0m\u001b[38;5;3m.\u001b[0m\n",
      "\u001b[38;5;3m.\u001b[0m\u001b[38;5;2mO\u001b[0m\u001b[38;5;2mO\u001b[0m\u001b[38;5;2mO\u001b[0m\u001b[38;5;3m.\u001b[0m\u001b[38;5;3m.\u001b[0m\n",
      "\u001b[38;5;3m.\u001b[0m\u001b[38;5;2mO\u001b[0m\u001b[38;5;3m.\u001b[0m\u001b[38;5;3m.\u001b[0m\u001b[38;5;3m.\u001b[0m\u001b[38;5;3m.\u001b[0m\n"
     ]
    }
   ],
   "source": [
    "# this function is just for see better this colors by characters \n",
    "def print_colored_image(image):\n",
    "  \"\"\"Prints the given image to the console with colors.\n",
    "\n",
    "  Args:\n",
    "    image: A 2D array of characters representing the image.\n",
    "  \"\"\"\n",
    "\n",
    "  for row in image:\n",
    "    for pixel in row:\n",
    "      if pixel == \"#\":\n",
    "        print(\"\\x1b[38;5;1m\" + pixel + \"\\x1b[0m\", end=\"\")\n",
    "      elif pixel == \"O\":\n",
    "        print(\"\\x1b[38;5;2m\" + pixel + \"\\x1b[0m\", end=\"\")\n",
    "      else:\n",
    "        print(\"\\x1b[38;5;3m\" + pixel + \"\\x1b[0m\", end=\"\")\n",
    "    print()\n",
    "\n",
    "# flood fill algorithm\n",
    "def paint_bucket(image, pixel, new_color):\n",
    "    # depth-first search algorithm\n",
    "    def dfs(x, y, original_color):\n",
    "        if (\n",
    "            x < 0 or x >= len(image) or\n",
    "            y < 0 or y >= len(image[0]) or\n",
    "            image[x][y] != original_color or\n",
    "            image[x][y] == new_color\n",
    "        ):\n",
    "            return\n",
    "        \n",
    "        image[x][y] = new_color\n",
    "    \n",
    "        dfs(x + 1, y, original_color)\n",
    "        dfs(x - 1, y, original_color)\n",
    "        dfs(x, y + 1, original_color)\n",
    "        dfs(x, y - 1, original_color)\n",
    "    \n",
    "    x, y = pixel\n",
    "    original_color = image[x][y]\n",
    "    \n",
    "    if original_color == new_color:\n",
    "        return image\n",
    "    \n",
    "    dfs(x, y, original_color)\n",
    "    return image\n",
    "\n",
    "# Example usage:\n",
    "image = [\n",
    "    ['.','#','#','#','.','.'],\n",
    "    ['.','#','.','.','#','.'],\n",
    "    ['.','#','#','#','.','.'],\n",
    "    ['.','#','.','.','.','.'],\n",
    "]\n",
    "\n",
    "print(\"Before:\")\n",
    "print_colored_image(image)\n",
    "\n",
    "pixel1 = (0, 1)\n",
    "new_color1 = 'O'\n",
    "image_copy = image.copy()\n",
    "result1 = paint_bucket(image_copy, pixel1, new_color1)\n",
    "print(\"\\n\" + \"After:\")\n",
    "print_colored_image(result1)"
   ]
  }
 ],
 "metadata": {
  "kernelspec": {
   "display_name": "Python 3",
   "language": "python",
   "name": "python3"
  },
  "language_info": {
   "codemirror_mode": {
    "name": "ipython",
    "version": 3
   },
   "file_extension": ".py",
   "mimetype": "text/x-python",
   "name": "python",
   "nbconvert_exporter": "python",
   "pygments_lexer": "ipython3",
   "version": "3.10.0"
  },
  "orig_nbformat": 4
 },
 "nbformat": 4,
 "nbformat_minor": 2
}
